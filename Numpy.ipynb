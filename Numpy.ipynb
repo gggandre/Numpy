{
  "nbformat": 4,
  "nbformat_minor": 0,
  "metadata": {
    "colab": {
      "name": "Numpy.ipynb",
      "provenance": []
    },
    "kernelspec": {
      "name": "python3",
      "display_name": "Python 3"
    },
    "language_info": {
      "name": "python"
    }
  },
  "cells": [
    {
      "cell_type": "markdown",
      "source": [
        "# **Creación de arrays**\n",
        "Para crear un array se utiliza la siguiente función de NumPy\n",
        "\n",
        "`np.array(lista)` : Crea un array a partir de la `lista` o tupla lista y devuelve una referencia a él. El número de dimensiones del array dependerá de las listas o tuplas anidadas en `lista`:\n",
        "\n",
        "Para una lista de valores se crea un array de una dimensión, también conocido como vector.\n",
        "\n",
        "Para una lista de listas de valores se crea un array de dos dimensiones, también conocido como matriz.\n",
        "\n",
        "Para una lista de listas de listas de valores se crea un array de tres dimensiones, también conocido como cubo.\n",
        "\n",
        "Y así sucesivamente. No hay límite en el número de dimensiones del array más allá de la memoria disponible en el sistema.\n",
        "\n",
        " Los elementos de la lista o tupla deben ser del mismo tipo."
      ],
      "metadata": {
        "id": "_WcIFZpmYAIp"
      }
    },
    {
      "cell_type": "code",
      "execution_count": 4,
      "metadata": {
        "colab": {
          "base_uri": "https://localhost:8080/"
        },
        "id": "Xeu1ItwrX4V8",
        "outputId": "dff3890b-38e1-4a96-bec4-1dd8034edd51"
      },
      "outputs": [
        {
          "output_type": "stream",
          "name": "stdout",
          "text": [
            "[1 2 3]\n"
          ]
        }
      ],
      "source": [
        "import numpy as np\n",
        "#Array de una dimensión\n",
        "a1 = np.array([1, 2, 3])\n",
        "print(a1)"
      ]
    },
    {
      "cell_type": "code",
      "source": [
        "# Array de dos dimensiones\n",
        "a2 = np.array([[1, 2, 3], [4, 5, 6]])\n",
        "print(a2)"
      ],
      "metadata": {
        "colab": {
          "base_uri": "https://localhost:8080/"
        },
        "id": "lTVTvPjxYKwM",
        "outputId": "0d07c496-d3eb-4f96-9f59-577162b99816"
      },
      "execution_count": 5,
      "outputs": [
        {
          "output_type": "stream",
          "name": "stdout",
          "text": [
            "[[1 2 3]\n",
            " [4 5 6]]\n"
          ]
        }
      ]
    },
    {
      "cell_type": "code",
      "source": [
        "# Array de tres dimensiones\n",
        "a3 = np.array([[[1, 2, 3], [4, 5, 6]], [[7, 8, 9], [10, 11, 12]]])\n",
        "print(a3)"
      ],
      "metadata": {
        "colab": {
          "base_uri": "https://localhost:8080/"
        },
        "id": "5lLe3GhEYduZ",
        "outputId": "39f454cb-a3cf-4230-850e-b58e0b3ac1ca"
      },
      "execution_count": 6,
      "outputs": [
        {
          "output_type": "stream",
          "name": "stdout",
          "text": [
            "[[[ 1  2  3]\n",
            "  [ 4  5  6]]\n",
            "\n",
            " [[ 7  8  9]\n",
            "  [10 11 12]]]\n"
          ]
        }
      ]
    },
    {
      "cell_type": "markdown",
      "source": [
        "Otras funciones útiles que permiten generar arrays son:\n",
        "\n",
        "`np.empty(dimensiones)` : Crea y devuelve una referencia a un array vacío con las dimensiones especificadas en la tupla **dimensiones**.\n",
        "\n",
        "`np.zeros(dimensiones`) : Crea y devuelve una referencia a un array con las dimensiones especificadas en la tupla **dimensiones** cuyos elementos son todos ceros.\n",
        "\n",
        "`np.ones(dimensiones)` : Crea y devuelve una referencia a un array con las dimensiones especificadas en la tupla **dimensiones** cuyos elementos son todos unos.\n",
        "\n",
        "`np.full(dimensiones, valor) `: Crea y devuelve una referencia a un array con las dimensiones especificadas en la tupla **dimensiones** cuyos elementos son todos **valor**.\n",
        "\n",
        "`np.identity(n)` : Crea y devuelve una referencia a la matriz identidad de dimensión **n**.\n",
        "\n",
        "`np.arange(inicio, fin, salto)` : Crea y devuelve una referencia a un array de una dimensión cuyos elementos son la secuencia desde **inicio** hasta **fin **tomando valores cada **salto**.\n",
        "\n",
        "`np.linspace(inicio, fin, n)` : Crea y devuelve una referencia a un array de una dimensión cuyos elementos son la secuencia de n valores equidistantes desde **inicio hasta fin**.\n",
        "\n",
        "`np.random.random(dimensiones)` : Crea y devuelve una referencia a un array con las dimensiones especificadas en la tupla **dimensiones** cuyos elementos son aleatorios."
      ],
      "metadata": {
        "id": "hCbdsnbnYIWy"
      }
    },
    {
      "cell_type": "code",
      "source": [
        "print(np.zeros(5))"
      ],
      "metadata": {
        "colab": {
          "base_uri": "https://localhost:8080/"
        },
        "id": "Y5YmvLYHZC3y",
        "outputId": "e6bd381b-5c58-41c5-d348-5ef9bc7e9609"
      },
      "execution_count": 12,
      "outputs": [
        {
          "output_type": "stream",
          "name": "stdout",
          "text": [
            "[0. 0. 0. 0. 0.]\n"
          ]
        }
      ]
    },
    {
      "cell_type": "code",
      "source": [
        "print(np.arange(1, 10, 2))"
      ],
      "metadata": {
        "colab": {
          "base_uri": "https://localhost:8080/"
        },
        "id": "SkQDV0lvZLwH",
        "outputId": "3edac970-ec50-4a46-bafc-f758cc3a4f13"
      },
      "execution_count": 16,
      "outputs": [
        {
          "output_type": "stream",
          "name": "stdout",
          "text": [
            "[1 3 5 7 9]\n"
          ]
        }
      ]
    },
    {
      "cell_type": "code",
      "source": [
        "print(np.linspace(0, 10, 5))"
      ],
      "metadata": {
        "colab": {
          "base_uri": "https://localhost:8080/"
        },
        "id": "AOdtlUfWZSgZ",
        "outputId": "960e268a-efe0-4dbe-d6b3-94d537a6ac24"
      },
      "execution_count": 17,
      "outputs": [
        {
          "output_type": "stream",
          "name": "stdout",
          "text": [
            "[ 0.   2.5  5.   7.5 10. ]\n"
          ]
        }
      ]
    },
    {
      "cell_type": "markdown",
      "source": [
        "# **Atributos de un array**\n",
        "Existen varios atributos y funciones que describen las características de un array.\n",
        "\n",
        "`a.ndim` : Devuelve el número de dimensiones del array **a**.\n",
        "\n",
        "`a.shape` : Devuelve una tupla con las dimensiones del array **a**.\n",
        "\n",
        "`a.size` : Devuelve el número de elementos del array **a**.\n",
        "\n",
        "`a.dtype`: Devuelve el tipo de datos de los elementos del array **a**.\n",
        "\n",
        "# **Acceso a los elementos de un array**\n",
        "Para acceder a los elementos contenidos en un array se usan índices al igual que para acceder a los elementos de una lista, pero indicando los índices de cada dimensión separados por comas.\n",
        "\n",
        "Al igual que para listas, los índices de cada dimensión comienzan en 0.\n",
        "\n",
        "También es posible obtener subarrays con el operador dos puntos : indicando el índice inicial y el siguiente al final para cada dimensión, de nuevo separados por comas."
      ],
      "metadata": {
        "id": "rBeR_ChCYaJz"
      }
    },
    {
      "cell_type": "code",
      "source": [
        "a = np.array([[1, 2, 3], [4, 5, 6]])\n",
        "print(a[1, 0])  # Acceso al elemento de la fila 1 columna 0"
      ],
      "metadata": {
        "colab": {
          "base_uri": "https://localhost:8080/"
        },
        "id": "7PkJJZOdZg0i",
        "outputId": "66b72099-fafd-4b3e-8bb7-8d8b666adcc8"
      },
      "execution_count": 19,
      "outputs": [
        {
          "output_type": "stream",
          "name": "stdout",
          "text": [
            "4\n"
          ]
        }
      ]
    },
    {
      "cell_type": "code",
      "source": [
        "print(a[1][0])  # Otra forma de acceder al mismo elemento"
      ],
      "metadata": {
        "colab": {
          "base_uri": "https://localhost:8080/"
        },
        "id": "T05ju1OZZjpw",
        "outputId": "70e08825-e002-42ab-f9d7-2d0b49a06b85"
      },
      "execution_count": 20,
      "outputs": [
        {
          "output_type": "stream",
          "name": "stdout",
          "text": [
            "4\n"
          ]
        }
      ]
    },
    {
      "cell_type": "code",
      "source": [
        "print(a[:, 0:2])"
      ],
      "metadata": {
        "colab": {
          "base_uri": "https://localhost:8080/"
        },
        "id": "ypCSmu2VZlE_",
        "outputId": "39d96703-43c4-4ebd-d464-0dbfc5959eda"
      },
      "execution_count": 21,
      "outputs": [
        {
          "output_type": "stream",
          "name": "stdout",
          "text": [
            "[[1 2]\n",
            " [4 5]]\n"
          ]
        }
      ]
    },
    {
      "cell_type": "markdown",
      "source": [
        "# **Filtrado de elementos de un array**\n",
        "Una característica muy útil de los arrays es que es muy fácil obtener otro array con los elementos que cumplen una condición.\n",
        "\n",
        "`a[condicion]` : Devuelve una lista con los elementos del array a que cumplen la condición **condicion**."
      ],
      "metadata": {
        "id": "jnMUg_otZmi_"
      }
    },
    {
      "cell_type": "code",
      "source": [
        "a = np.array([[1, 2, 3], [4, 5, 6]])\n",
        "print(a[(a % 2 == 0)])"
      ],
      "metadata": {
        "colab": {
          "base_uri": "https://localhost:8080/"
        },
        "id": "GIVHJZX3ZpuI",
        "outputId": "34126c5d-7a85-45b7-a307-71fedf78f64b"
      },
      "execution_count": 22,
      "outputs": [
        {
          "output_type": "stream",
          "name": "stdout",
          "text": [
            "[2 4 6]\n"
          ]
        }
      ]
    },
    {
      "cell_type": "code",
      "source": [
        "print(a[(a % 2 == 0) &  (a > 2)])"
      ],
      "metadata": {
        "colab": {
          "base_uri": "https://localhost:8080/"
        },
        "id": "YtTJFPdHZspy",
        "outputId": "fbdd2ffb-e934-4d72-f243-b579362ebc84"
      },
      "execution_count": 23,
      "outputs": [
        {
          "output_type": "stream",
          "name": "stdout",
          "text": [
            "[4 6]\n"
          ]
        }
      ]
    },
    {
      "cell_type": "markdown",
      "source": [
        "# **Operaciones matemáticas con arrays**\n",
        "Existen dos formas de realizar operaciones matemáticas con arrays: a nivel de elemento y a nivel de array.\n",
        "\n",
        "Las operaciones a nivel de elemento operan los elementos que ocupan la misma posición en dos arrays. Se necesitan, por tanto, dos arrays con las mismas dimensiones y el resultado es una array de la misma dimensión.\n",
        "\n",
        "Los operadores mamemáticos `+, -, *, /, %, **` se utilizan para la realizar suma, resta, producto, cociente, resto y potencia a nivel de elemento."
      ],
      "metadata": {
        "id": "s1Sl_kgbZuKR"
      }
    },
    {
      "cell_type": "code",
      "source": [
        "a = np.array([[1, 2, 3], [4, 5, 6]])\n",
        "b = np.array([[1, 1, 1], [2, 2, 2]])\n",
        "print(a + b )"
      ],
      "metadata": {
        "colab": {
          "base_uri": "https://localhost:8080/"
        },
        "id": "KNsbrGPqZxgN",
        "outputId": "9739d983-21b4-4d4e-9e1a-7adcfe6ace55"
      },
      "execution_count": 24,
      "outputs": [
        {
          "output_type": "stream",
          "name": "stdout",
          "text": [
            "[[2 3 4]\n",
            " [6 7 8]]\n"
          ]
        }
      ]
    },
    {
      "cell_type": "code",
      "source": [
        "print(a / b)"
      ],
      "metadata": {
        "colab": {
          "base_uri": "https://localhost:8080/"
        },
        "id": "yQdgcXHWZ06A",
        "outputId": "97a3f63f-f413-4950-ba51-d79c9b9d635c"
      },
      "execution_count": 25,
      "outputs": [
        {
          "output_type": "stream",
          "name": "stdout",
          "text": [
            "[[1.  2.  3. ]\n",
            " [2.  2.5 3. ]]\n"
          ]
        }
      ]
    },
    {
      "cell_type": "code",
      "source": [
        "print(a ** 2)"
      ],
      "metadata": {
        "colab": {
          "base_uri": "https://localhost:8080/"
        },
        "id": "zyQoA16wZ3CA",
        "outputId": "7c03c3e5-2f6c-436a-891d-24c30f195fc0"
      },
      "execution_count": 26,
      "outputs": [
        {
          "output_type": "stream",
          "name": "stdout",
          "text": [
            "[[ 1  4  9]\n",
            " [16 25 36]]\n"
          ]
        }
      ]
    },
    {
      "cell_type": "markdown",
      "source": [
        "# **Álgebra matricial**\n",
        "Numpy incorpora funciones para realizar las principales operaciones algebraicas con vectores y matrices. La mayoría de los métodos algebráicos se agrupan en el submódulo linalg.\n",
        "\n",
        "# Producto escalar de dos vectores\n",
        "Para realizar el producto escalar de dos vectores se utiliza el operador @ o el siguiente método:\n",
        "\n",
        "`u.dot(v):` Devuelve el producto escalar de los vectores u y v."
      ],
      "metadata": {
        "id": "B333Hk58Z45_"
      }
    },
    {
      "cell_type": "code",
      "source": [
        "import numpy as np\n",
        "a = np.array([1, 2, 3])\n",
        "b = np.array([1, 0, 1])\n",
        "print(a @ b)"
      ],
      "metadata": {
        "colab": {
          "base_uri": "https://localhost:8080/"
        },
        "id": "i9Uim4NQZ-0H",
        "outputId": "95ea3a64-9df3-47ca-f765-af9499c82192"
      },
      "execution_count": 27,
      "outputs": [
        {
          "output_type": "stream",
          "name": "stdout",
          "text": [
            "4\n"
          ]
        }
      ]
    },
    {
      "cell_type": "code",
      "source": [
        "print(a.dot(b))"
      ],
      "metadata": {
        "colab": {
          "base_uri": "https://localhost:8080/"
        },
        "id": "yUsq-_geZ_b4",
        "outputId": "e675649f-00fd-411c-fcd7-88fef2e2eb69"
      },
      "execution_count": 28,
      "outputs": [
        {
          "output_type": "stream",
          "name": "stdout",
          "text": [
            "4\n"
          ]
        }
      ]
    },
    {
      "cell_type": "markdown",
      "source": [
        "# **Módulo de un vector**\n",
        "Para calcular el módulo de un vector se utiliza el siguiente método:\n",
        "\n",
        "`norm(v):` Devuelve el módulo del vector **v**."
      ],
      "metadata": {
        "id": "PfLKNbkNaErA"
      }
    },
    {
      "cell_type": "code",
      "source": [
        "import numpy as np\n",
        "a = np.array([3, 4])\n",
        "print(np.linalg.norm(a))"
      ],
      "metadata": {
        "colab": {
          "base_uri": "https://localhost:8080/"
        },
        "id": "iUcvjYV6aILh",
        "outputId": "6f8cbc61-f3da-48c9-e938-3a2a8ce583c9"
      },
      "execution_count": 29,
      "outputs": [
        {
          "output_type": "stream",
          "name": "stdout",
          "text": [
            "5.0\n"
          ]
        }
      ]
    },
    {
      "cell_type": "markdown",
      "source": [
        "# **Producto de dos matrices**\n",
        "Para realizar el producto matricial se utiliza el mismo operador `@` y método que para el producto escalar de vectores:\n",
        "\n",
        "`a.dot(b)` : Devuelve el producto matricial de las matrices **a y b** siempre y cuando sus dimensiones sean compatibles."
      ],
      "metadata": {
        "id": "iAnEUZeXaLSo"
      }
    },
    {
      "cell_type": "code",
      "source": [
        "import numpy as np\n",
        "a = np.array([[1, 2, 3], [4, 5, 6]])\n",
        "b = np.array([[1, 1], [2, 2], [3, 3]])\n",
        "print(a @ b)"
      ],
      "metadata": {
        "colab": {
          "base_uri": "https://localhost:8080/"
        },
        "id": "Nos5iS7taPh4",
        "outputId": "f0b8f272-d908-4a37-dd3a-93f64c98bcb6"
      },
      "execution_count": 30,
      "outputs": [
        {
          "output_type": "stream",
          "name": "stdout",
          "text": [
            "[[14 14]\n",
            " [32 32]]\n"
          ]
        }
      ]
    },
    {
      "cell_type": "code",
      "source": [
        "print(a.dot(b))"
      ],
      "metadata": {
        "colab": {
          "base_uri": "https://localhost:8080/"
        },
        "id": "A4IZesg7aTXQ",
        "outputId": "e862a58f-4550-43b8-8363-95c03ca7e78c"
      },
      "execution_count": 31,
      "outputs": [
        {
          "output_type": "stream",
          "name": "stdout",
          "text": [
            "[[14 14]\n",
            " [32 32]]\n"
          ]
        }
      ]
    },
    {
      "cell_type": "markdown",
      "source": [
        "# **Matriz traspuesta**\n",
        "Para trasponer una matriz se utiliza el método\n",
        "\n",
        "`a.T :` Devuelve la matriz traspuesta de la matriz a."
      ],
      "metadata": {
        "id": "zfyHmU1CaUj3"
      }
    },
    {
      "cell_type": "code",
      "source": [
        "import numpy as np\n",
        "a = np.array([[1, 2, 3], [4, 5, 6]])\n",
        "print(a.T)"
      ],
      "metadata": {
        "colab": {
          "base_uri": "https://localhost:8080/"
        },
        "id": "N6PvWXv1aXQR",
        "outputId": "f02edcf8-37da-4f05-dcac-65a7bd0d8d1b"
      },
      "execution_count": 32,
      "outputs": [
        {
          "output_type": "stream",
          "name": "stdout",
          "text": [
            "[[1 4]\n",
            " [2 5]\n",
            " [3 6]]\n"
          ]
        }
      ]
    },
    {
      "cell_type": "markdown",
      "source": [
        "# **Traza de una matriz**\n",
        "La traza de una matriz cuadrada se calcula con el siguiente método:\n",
        "\n",
        "`a.trace()` : Devuelve la traza (suma de la diagonal principal) de la matriz cuadrada a."
      ],
      "metadata": {
        "id": "zhQYiofXaZqX"
      }
    },
    {
      "cell_type": "code",
      "source": [
        "import numpy as np\n",
        "a = np.array([[1, 2, 3], [4, 5, 6], [7, 8, 9]])\n",
        "print(a.trace())"
      ],
      "metadata": {
        "colab": {
          "base_uri": "https://localhost:8080/"
        },
        "id": "XyTdxgoeac8A",
        "outputId": "2a695ff9-54fc-4c12-d673-810dd3c742ec"
      },
      "execution_count": 34,
      "outputs": [
        {
          "output_type": "stream",
          "name": "stdout",
          "text": [
            "15\n"
          ]
        }
      ]
    },
    {
      "cell_type": "markdown",
      "source": [
        "# **Determinante de una matriz**\n",
        "El determinante de una matriz cuadrada se calcula con la siguiente función:\n",
        "\n",
        "`det(a) `: Devuelve el determinante de la matriz cuadrada a."
      ],
      "metadata": {
        "id": "czhHHhztahUA"
      }
    },
    {
      "cell_type": "code",
      "source": [
        "import numpy as np\n",
        "a = np.array([[1, 2], [3, 4]])\n",
        "print(np.linalg.det(a))"
      ],
      "metadata": {
        "colab": {
          "base_uri": "https://localhost:8080/"
        },
        "id": "Kde4RTjKaj1f",
        "outputId": "a4bb6ec8-cc7f-4d7f-d2e7-627550455337"
      },
      "execution_count": 35,
      "outputs": [
        {
          "output_type": "stream",
          "name": "stdout",
          "text": [
            "-2.0000000000000004\n"
          ]
        }
      ]
    },
    {
      "cell_type": "markdown",
      "source": [
        "# **Matriz inversa**\n",
        "La inversa de una matriz se calcula con la siguiente función:\n",
        "\n",
        "`inv(a)` : Devuelve la matriz inversa de la matriz cuadrada a."
      ],
      "metadata": {
        "id": "GZ1LgbtgaoOo"
      }
    },
    {
      "cell_type": "code",
      "source": [
        "import numpy as np\n",
        "a = np.array([[1, 2], [3, 4]])\n",
        "print(np.linalg.inv(a))"
      ],
      "metadata": {
        "colab": {
          "base_uri": "https://localhost:8080/"
        },
        "id": "URe0Y2ODarDh",
        "outputId": "130697ba-1390-4c51-f85a-dcfe4c8a7d89"
      },
      "execution_count": 36,
      "outputs": [
        {
          "output_type": "stream",
          "name": "stdout",
          "text": [
            "[[-2.   1. ]\n",
            " [ 1.5 -0.5]]\n"
          ]
        }
      ]
    },
    {
      "cell_type": "markdown",
      "source": [
        "# **Autovalores de una matriz**\n",
        "Los autovalores de una matriz cuadrada se calculan con la siguiente función:\n",
        "\n",
        "`eigvals(a)` : Devuelve los autovalores de la matriz cuadrada a."
      ],
      "metadata": {
        "id": "NCEWOflyavSJ"
      }
    },
    {
      "cell_type": "code",
      "source": [
        "import numpy as np\n",
        "a = np.array([[1, 1, 0], [1, 2, 1], [0, 1, 1]])\n",
        "print(np.linalg.eigvals(a))"
      ],
      "metadata": {
        "colab": {
          "base_uri": "https://localhost:8080/"
        },
        "id": "zkpEOVz4axKf",
        "outputId": "0137ab4d-70ed-41c3-84c2-2485e36bdf1e"
      },
      "execution_count": 37,
      "outputs": [
        {
          "output_type": "stream",
          "name": "stdout",
          "text": [
            "[ 3.00000000e+00  1.00000000e+00 -3.36770206e-17]\n"
          ]
        }
      ]
    },
    {
      "cell_type": "markdown",
      "source": [
        "# **Autovectores de una matriz**\n",
        "Los autovectores de una matriz cuadrada se calculan con la siguiente función:\n",
        "\n",
        "`eig(a)` : Devuelve los autovalores y los autovectores asociados de la matriz cuadrada a."
      ],
      "metadata": {
        "id": "PLKAzNYZa0t5"
      }
    },
    {
      "cell_type": "code",
      "source": [
        "import numpy as np\n",
        "a = np.array([[1, 1, 0], [1, 2, 1], [0, 1, 1]])\n",
        "print(np.linalg.eig(a))"
      ],
      "metadata": {
        "colab": {
          "base_uri": "https://localhost:8080/"
        },
        "id": "KGe0nHyta2U3",
        "outputId": "7c6f5a5e-23c7-4659-fdb2-1e479d8fa86e"
      },
      "execution_count": 38,
      "outputs": [
        {
          "output_type": "stream",
          "name": "stdout",
          "text": [
            "(array([ 3.00000000e+00,  1.00000000e+00, -3.36770206e-17]), array([[-4.08248290e-01,  7.07106781e-01,  5.77350269e-01],\n",
            "       [-8.16496581e-01,  2.61239546e-16, -5.77350269e-01],\n",
            "       [-4.08248290e-01, -7.07106781e-01,  5.77350269e-01]]))\n"
          ]
        }
      ]
    },
    {
      "cell_type": "markdown",
      "source": [
        "# **Solución de un sistema de ecuaciones**\n",
        "Para resolver un sistema de ecuaciones lineales se utiliza la función siguiente:\n",
        "\n",
        "`solve(a, b)` : Devuelve la solución del sistema de ecuaciones lineales con los coeficientes de la matriz **a** y los términos independientes de la matriz **b**."
      ],
      "metadata": {
        "id": "ExPN_G1da7Qo"
      }
    },
    {
      "cell_type": "code",
      "source": [
        "import numpy as np\n",
        "# Sistema de dos ecuaciones y dos incógnitas\n",
        "# x + 2y = 1\n",
        "# 3x + 5y = 2 \n",
        "a = np.array([[1, 2], [3, 5]])\n",
        "b = np.array([1, 2])\n",
        "print(np.linalg.solve(a, b))"
      ],
      "metadata": {
        "colab": {
          "base_uri": "https://localhost:8080/"
        },
        "id": "B-DyPiHfa-tX",
        "outputId": "32178258-cf92-4c61-89e8-60d89ed0faf2"
      },
      "execution_count": 39,
      "outputs": [
        {
          "output_type": "stream",
          "name": "stdout",
          "text": [
            "[-1.  1.]\n"
          ]
        }
      ]
    }
  ]
}